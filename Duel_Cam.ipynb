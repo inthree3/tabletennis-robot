{
 "cells": [
  {
   "cell_type": "code",
   "execution_count": 1,
   "id": "42be40ea",
   "metadata": {},
   "outputs": [],
   "source": [
    "import cv2\n",
    "gpu_frame = cv2.cuda_GpuMat()"
   ]
  },
  {
   "cell_type": "code",
   "execution_count": 4,
   "id": "ff1e574b",
   "metadata": {},
   "outputs": [],
   "source": [
    "cap1=cv2.VideoCapture(0)\n",
    "cap2=cv2.VideoCapture(1)\n",
    "#right cam==0\n",
    "#left cam==1"
   ]
  },
  {
   "cell_type": "code",
   "execution_count": 6,
   "id": "9488c787",
   "metadata": {},
   "outputs": [
    {
     "name": "stdout",
     "output_type": "stream",
     "text": [
      "True\n",
      "True\n"
     ]
    }
   ],
   "source": [
    "print(cap1.isOpened())\n",
    "print(cap2.isOpened())"
   ]
  },
  {
   "cell_type": "code",
   "execution_count": null,
   "id": "5398d92f",
   "metadata": {},
   "outputs": [],
   "source": [
    "print()"
   ]
  },
  {
   "cell_type": "code",
   "execution_count": null,
   "id": "6b8c0b03",
   "metadata": {},
   "outputs": [],
   "source": []
  },
  {
   "cell_type": "code",
   "execution_count": null,
   "id": "aa8cc9d7",
   "metadata": {},
   "outputs": [],
   "source": [
    "print('Frame width:', int(cap.get(cv.CAP_PROP_FRAME_WIDTH)))\n",
    "print('Frame height:', int(cap.get(cv.CAP_PROP_FRAME_HEIGHT)))\n",
    "print('Frame count:', int(cap.get(cv.CAP_PROP_FRAME_COUNT)))\n",
    "\n",
    "fps = cap.get(cv.CAP_PROP_FPS)\n",
    "print('FPS:', fps)"
   ]
  },
  {
   "cell_type": "code",
   "execution_count": null,
   "id": "95462fc0",
   "metadata": {},
   "outputs": [],
   "source": [
    "# 프레임 속성 받아오기\n",
    "w = int(cap.get(cv2.CAP_PROP_FRAME_WIDTH))\n",
    "h = int(cap.get(cv2.CAP_PROP_FRAME_HEIGHT))\n",
    "print(w, h) # 640, 480\n",
    "\n",
    "\n",
    "# set 명령어로 원하는 프레임 속성 지정 가능\n",
    "cap.set(cv2.CAP_PROP_FRAME_WIDTH, 320)\n",
    "cap.set(cv2.CAP_PROP_FRAME_HEIGHT, 240)"
   ]
  },
  {
   "cell_type": "code",
   "execution_count": null,
   "id": "ca67396d",
   "metadata": {},
   "outputs": [],
   "source": [
    "import matplotlib.pyplot as plt\n",
    "\n",
    "#컬러 영상 출력\n",
    "imgBGR = cv2.imread('cat.bmp')\n",
    "\n",
    "# cv2.imread는 BGR로 불러오므로 plt를 이용하려면 RGB로 바꿔줘야 함\n",
    "imgRGB = cv2.cvtColor(imgBGR, cv2.COLOR_BGR2RGB)\n",
    "\n",
    "plt.axis('off') # 창에있는 x축 y축 제거\n",
    "plt.imshow(imgRGB)\n",
    "plt.show()"
   ]
  }
 ],
 "metadata": {
  "kernelspec": {
   "display_name": "Python 3 (ipykernel)",
   "language": "python",
   "name": "python3"
  },
  "language_info": {
   "codemirror_mode": {
    "name": "ipython",
    "version": 3
   },
   "file_extension": ".py",
   "mimetype": "text/x-python",
   "name": "python",
   "nbconvert_exporter": "python",
   "pygments_lexer": "ipython3",
   "version": "3.7.10"
  }
 },
 "nbformat": 4,
 "nbformat_minor": 5
}
