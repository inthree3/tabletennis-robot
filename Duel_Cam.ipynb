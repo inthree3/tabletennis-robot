{
 "cells": [
  {
   "cell_type": "code",
   "execution_count": 14,
   "id": "42be40ea",
   "metadata": {},
   "outputs": [],
   "source": [
    "import cv2\n",
    "# gpu_frame = cv2.cuda_GpuMat()"
   ]
  },
  {
   "cell_type": "code",
   "execution_count": 8,
   "id": "ff1e574b",
   "metadata": {},
   "outputs": [],
   "source": [
    "cap=cv2.VideoCapture(0)\n",
    "# cap2=cv2.VideoCapture(1)\n",
    "#right cam==0\n",
    "#left cam==1"
   ]
  },
  {
   "cell_type": "code",
   "execution_count": 5,
   "id": "9488c787",
   "metadata": {},
   "outputs": [
    {
     "name": "stdout",
     "output_type": "stream",
     "text": [
      "True\n"
     ]
    }
   ],
   "source": [
    "print(cap1.isOpened())\n",
    "# print(cap2.isOpened())"
   ]
  },
  {
   "cell_type": "code",
   "execution_count": 6,
   "id": "5398d92f",
   "metadata": {},
   "outputs": [
    {
     "name": "stdout",
     "output_type": "stream",
     "text": [
      "\n"
     ]
    }
   ],
   "source": [
    "print()"
   ]
  },
  {
   "cell_type": "code",
   "execution_count": null,
   "id": "6b8c0b03",
   "metadata": {},
   "outputs": [],
   "source": []
  },
  {
   "cell_type": "code",
   "execution_count": 15,
   "id": "aa8cc9d7",
   "metadata": {},
   "outputs": [
    {
     "name": "stdout",
     "output_type": "stream",
     "text": [
      "Frame width: 1280\n",
      "Frame height: 720\n",
      "Frame count: -1\n",
      "FPS: 30.0\n"
     ]
    }
   ],
   "source": [
    "print('Frame width:', int(cap.get(cv2.CAP_PROP_FRAME_WIDTH)))\n",
    "print('Frame height:', int(cap.get(cv2.CAP_PROP_FRAME_HEIGHT)))\n",
    "print('Frame count:', int(cap.get(cv2.CAP_PROP_FRAME_COUNT)))\n",
    "\n",
    "fps = cap.get(cv.CAP_PROP_FPS)\n",
    "print('FPS:', fps)"
   ]
  },
  {
   "cell_type": "code",
   "execution_count": null,
   "id": "95462fc0",
   "metadata": {},
   "outputs": [],
   "source": [
    "# 프레임 속성 받아오기\n",
    "w = int(cap.get(cv2.CAP_PROP_FRAME_WIDTH))\n",
    "h = int(cap.get(cv2.CAP_PROP_FRAME_HEIGHT))\n",
    "print(w, h) # 640, 480\n",
    "\n",
    "\n",
    "# set 명령어로 원하는 프레임 속성 지정 가능\n",
    "cap.set(cv2.CAP_PROP_FRAME_WIDTH, 320)\n",
    "cap.set(cv2.CAP_PROP_FRAME_HEIGHT, 240)"
   ]
  },
  {
   "cell_type": "code",
   "execution_count": 17,
   "id": "ca67396d",
   "metadata": {},
   "outputs": [
    {
     "ename": "NameError",
     "evalue": "name 'imgRGB' is not defined",
     "output_type": "error",
     "traceback": [
      "\u001b[1;31m---------------------------------------------------------------------------\u001b[0m",
      "\u001b[1;31mNameError\u001b[0m                                 Traceback (most recent call last)",
      "Cell \u001b[1;32mIn[17], line 10\u001b[0m\n\u001b[0;32m      6\u001b[0m \u001b[39m# cv2.imread는 BGR로 불러오므로 plt를 이용하려면 RGB로 바꿔줘야 함\u001b[39;00m\n\u001b[0;32m      7\u001b[0m \u001b[39m# imgRGB = cv2.cvtColor(imgBGR, cv2.COLOR_BGR2RGB)\u001b[39;00m\n\u001b[0;32m      9\u001b[0m plt\u001b[39m.\u001b[39maxis(\u001b[39m'\u001b[39m\u001b[39moff\u001b[39m\u001b[39m'\u001b[39m) \u001b[39m# 창에있는 x축 y축 제거\u001b[39;00m\n\u001b[1;32m---> 10\u001b[0m plt\u001b[39m.\u001b[39mimshow(imgRGB)\n\u001b[0;32m     11\u001b[0m plt\u001b[39m.\u001b[39mshow()\n",
      "\u001b[1;31mNameError\u001b[0m: name 'imgRGB' is not defined"
     ]
    },
    {
     "data": {
      "image/png": "[encoded data removed]",
      "text/plain": [
       "<Figure size 640x480 with 1 Axes>"
      ]
     },
     "metadata": {},
     "output_type": "display_data"
    }
   ],
   "source": [
    "import matplotlib.pyplot as plt\n",
    "\n",
    "#컬러 영상 출력\n",
    "imgBGR = cv2.imread('cat.bmp')\n",
    "\n",
    "# cv2.imread는 BGR로 불러오므로 plt를 이용하려면 RGB로 바꿔줘야 함\n",
    "# imgRGB = cv2.cvtColor(imgBGR, cv2.COLOR_BGR2RGB)\n",
    "\n",
    "plt.axis('off') # 창에있는 x축 y축 제거\n",
    "plt.imshow(imgRGB)\n",
    "plt.show()"
   ]
  },
  {
   "cell_type": "code",
   "execution_count": null,
   "id": "8bf521ea",
   "metadata": {},
   "outputs": [],
   "source": []
  }
 ],
 "metadata": {
  "kernelspec": {
   "display_name": "Python 3 (ipykernel)",
   "language": "python",
   "name": "python3"
  },
  "language_info": {
   "codemirror_mode": {
    "name": "ipython",
    "version": 3
   },
   "file_extension": ".py",
   "mimetype": "text/x-python",
   "name": "python",
   "nbconvert_exporter": "python",
   "pygments_lexer": "ipython3",
   "version": "3.9.7"
  }
 },
 "nbformat": 4,
 "nbformat_minor": 5
}
