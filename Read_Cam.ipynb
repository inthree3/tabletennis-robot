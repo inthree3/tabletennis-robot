{
 "cells": [
  {
   "cell_type": "code",
   "execution_count": 1,
   "id": "53872fb0",
   "metadata": {},
   "outputs": [],
   "source": [
    "import cv2"
   ]
  },
  {
   "cell_type": "code",
   "execution_count": 2,
   "id": "f39a35ae",
   "metadata": {},
   "outputs": [],
   "source": [
    "import numpy as np"
   ]
  },
  {
   "cell_type": "code",
   "execution_count": 3,
   "id": "d931b737",
   "metadata": {},
   "outputs": [],
   "source": [
    "import matplotlib as plt"
   ]
  },
  {
   "cell_type": "code",
   "execution_count": 23,
   "id": "3a666e79",
   "metadata": {},
   "outputs": [],
   "source": [
    "cap0=cv2.VideoCapture(1)\n",
    "#cap1=cv2.VideoCapture(1)"
   ]
  },
  {
   "cell_type": "code",
   "execution_count": 5,
   "id": "80f084aa",
   "metadata": {},
   "outputs": [
    {
     "data": {
      "text/plain": [
       "True"
      ]
     },
     "execution_count": 5,
     "metadata": {},
     "output_type": "execute_result"
    }
   ],
   "source": [
    "cap0.isOpened()\n",
    "#cap1.isOpened()"
   ]
  },
  {
   "cell_type": "code",
   "execution_count": 6,
   "id": "8ecffd82",
   "metadata": {},
   "outputs": [
    {
     "name": "stdout",
     "output_type": "stream",
     "text": [
      "Frame width: 1280\n",
      "Frame height: 720\n",
      "Frame count: -1\n",
      "FPS_0: 30.0\n"
     ]
    }
   ],
   "source": [
    "# 비디오 프레임 크기, 전체 프레임수, FPS 등 출력\n",
    "print('Frame width:', int(cap0.get(cv2.CAP_PROP_FRAME_WIDTH)))\n",
    "print('Frame height:', int(cap0.get(cv2.CAP_PROP_FRAME_HEIGHT)))\n",
    "print('Frame count:', int(cap0.get(cv2.CAP_PROP_FRAME_COUNT)))\n",
    "\n",
    "# print('Frame width:', int(cap1.get(cv2.CAP_PROP_FRAME_WIDTH)))\n",
    "# print('Frame height:', int(cap1.get(cv2.CAP_PROP_FRAME_HEIGHT)))\n",
    "# print('Frame count:', int(cap1.get(cv2.CAP_PROP_FRAME_COUNT)))\n",
    "\n",
    "fps_0 = cap0.get(cv2.CAP_PROP_FPS)\n",
    "print('FPS_0:', fps_0)\n",
    "\n",
    "# fps = cap1.get(cv2.CAP_PROP_FPS)\n",
    "# print('FPS_1:', fps_1)"
   ]
  },
  {
   "cell_type": "code",
   "execution_count": 7,
   "id": "c0e2db28",
   "metadata": {},
   "outputs": [
    {
     "name": "stdout",
     "output_type": "stream",
     "text": [
      "1280 720\n",
      "\n"
     ]
    }
   ],
   "source": [
    "w_0 = int(cap0.get(cv2.CAP_PROP_FRAME_WIDTH))\n",
    "h_0 = int(cap0.get(cv2.CAP_PROP_FRAME_HEIGHT))\n",
    "print(w_0, h_0) # 640, 480\n",
    "\n",
    "\n",
    "# set 명령어로 원하는 프레임 속성 지정 가능\n",
    "cap0.set(cv2.CAP_PROP_FRAME_WIDTH, 640)\n",
    "cap0.set(cv2.CAP_PROP_FRAME_HEIGHT, 480)\n",
    "cap0.set(cv2.CAP_PROP_FRAME_COUNT, 60)\n",
    "print()\n",
    "\n",
    "# w_1 = int(cap1.get(cv2.CAP_PROP_FRAME_WIDTH))\n",
    "# h_1 = int(cap1.get(cv2.CAP_PROP_FRAME_HEIGHT))\n",
    "# print(w_1, h_1) # 640, 480\n",
    "\n",
    "\n",
    "# # set 명령어로 원하는 프레임 속성 지정 가능\n",
    "# cap1.set(cv2.CAP_PROP_FRAME_WIDTH, 640)\n",
    "# cap1.set(cv2.CAP_PROP_FRAME_HEIGHT, 480)\n",
    "# cap1.set(cv2.CAP_PROP_FRAME_COUNT, 60)"
   ]
  },
  {
   "cell_type": "code",
   "execution_count": 24,
   "id": "87dbcce5",
   "metadata": {},
   "outputs": [],
   "source": [
    "# 비디오 매 프레임 처리\n",
    "while True: # esc 인식 전까지 무한루프\n",
    "    ret_0, frame_0 = cap0.read()\n",
    "#     ret_1, frame_1 = cap1.read()\n",
    "\n",
    "    # 정지화면에서 윤곽선을 추출\n",
    "#    edge_0 = cv2.Canny(frame_0, 50, 150)\n",
    "    \n",
    "    # 정지화면에서 윤곽선을 추출\n",
    "#    edge_1 = cv2.Canny(frame_1, 50, 150)\n",
    "    if ret_0:\n",
    "        inversed_0 = ~frame_0  # 반전\n",
    "    #     inversed_1 = ~frame_1  # 반전\n",
    "\n",
    "        cv2.imshow('frame_0', frame_0)\n",
    "    #    cv2.imshow('inversed_0', inversed_0)\n",
    "    #    cv2.imshow('edge_0', edge_0)\n",
    "        \n",
    "    #     cv2.imshow('frame_1', frame_1)\n",
    "    #    cv2.imshow('inversed_1', inversed_1)\n",
    "    #    cv2.imshow('edge_1', edge_1)\n",
    "\n",
    "        # 10ms 기다리고 다음 프레임으로 전환, Esc누르면 while 강제 종료\n",
    "        if cv2.waitKey(10) == 27:\n",
    "            break\n",
    "\n",
    "    else:\n",
    "        print(\"Nothing is returned from camera\")\n",
    "        break\n",
    "\n",
    "cap0.release() # 사용한 자원 해제\n",
    "cv2.destroyAllWindows()"
   ]
  },
  {
   "cell_type": "code",
   "execution_count": null,
   "id": "834172ec",
   "metadata": {},
   "outputs": [],
   "source": []
  },
  {
   "cell_type": "code",
   "execution_count": null,
   "id": "b828c9c8",
   "metadata": {},
   "outputs": [],
   "source": []
  }
 ],
 "metadata": {
  "kernelspec": {
   "display_name": "Python 3 (ipykernel)",
   "language": "python",
   "name": "python3"
  },
  "language_info": {
   "codemirror_mode": {
    "name": "ipython",
    "version": 3
   },
   "file_extension": ".py",
   "mimetype": "text/x-python",
   "name": "python",
   "nbconvert_exporter": "python",
   "pygments_lexer": "ipython3",
   "version": "3.9.7"
  }
 },
 "nbformat": 4,
 "nbformat_minor": 5
}
