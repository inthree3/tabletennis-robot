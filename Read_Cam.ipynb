{
 "cells": [
  {
   "cell_type": "code",
   "execution_count": 6,
   "id": "53872fb0",
   "metadata": {},
   "outputs": [],
   "source": [
    "import cv2"
   ]
  },
  {
   "cell_type": "code",
   "execution_count": 7,
   "id": "f39a35ae",
   "metadata": {},
   "outputs": [],
   "source": [
    "import numpy as np"
   ]
  },
  {
   "cell_type": "code",
   "execution_count": 8,
   "id": "d931b737",
   "metadata": {},
   "outputs": [],
   "source": [
    "import matplotlib as plt"
   ]
  },
  {
   "cell_type": "code",
   "execution_count": 9,
   "id": "3a666e79",
   "metadata": {},
   "outputs": [],
   "source": [
    "cap0=cv2.VideoCapture(0)\n",
    "#cap1=cv2.VideoCapture(1)"
   ]
  },
  {
   "cell_type": "code",
   "execution_count": 10,
   "id": "80f084aa",
   "metadata": {},
   "outputs": [
    {
     "data": {
      "text/plain": [
       "True"
      ]
     },
     "execution_count": 10,
     "metadata": {},
     "output_type": "execute_result"
    }
   ],
   "source": [
    "cap0.isOpened()\n",
    "#cap1.isOpened()"
   ]
  },
  {
   "cell_type": "code",
   "execution_count": 8,
   "id": "8ecffd82",
   "metadata": {},
   "outputs": [
    {
     "name": "stdout",
     "output_type": "stream",
     "text": [
      "Frame width: 640\n",
      "Frame height: 480\n",
      "Frame count: -1\n",
      "Frame width: 640\n",
      "Frame height: 480\n",
      "Frame count: -1\n",
      "FPS: 30.0\n",
      "FPS: 30.0\n"
     ]
    }
   ],
   "source": [
    "# 비디오 프레임 크기, 전체 프레임수, FPS 등 출력\n",
    "print('Frame width:', int(cap0.get(cv2.CAP_PROP_FRAME_WIDTH)))\n",
    "print('Frame height:', int(cap0.get(cv2.CAP_PROP_FRAME_HEIGHT)))\n",
    "print('Frame count:', int(cap0.get(cv2.CAP_PROP_FRAME_COUNT)))\n",
    "\n",
    "# print('Frame width:', int(cap1.get(cv2.CAP_PROP_FRAME_WIDTH)))\n",
    "# print('Frame height:', int(cap1.get(cv2.CAP_PROP_FRAME_HEIGHT)))\n",
    "# print('Frame count:', int(cap1.get(cv2.CAP_PROP_FRAME_COUNT)))\n",
    "\n",
    "fps_0 = cap0.get(cv2.CAP_PROP_FPS)\n",
    "print('FPS_0:', fps_0)\n",
    "\n",
    "# fps = cap1.get(cv2.CAP_PROP_FPS)\n",
    "# print('FPS_1:', fps_1)"
   ]
  },
  {
   "cell_type": "code",
   "execution_count": 9,
   "id": "c0e2db28",
   "metadata": {},
   "outputs": [
    {
     "name": "stdout",
     "output_type": "stream",
     "text": [
      "640 480\n",
      "640 480\n"
     ]
    },
    {
     "data": {
      "text/plain": [
       "False"
      ]
     },
     "execution_count": 9,
     "metadata": {},
     "output_type": "execute_result"
    }
   ],
   "source": [
    "w_0 = int(cap0.get(cv2.CAP_PROP_FRAME_WIDTH))\n",
    "h_0 = int(cap0.get(cv2.CAP_PROP_FRAME_HEIGHT))\n",
    "print(w_0, h_0) # 640, 480\n",
    "\n",
    "\n",
    "# set 명령어로 원하는 프레임 속성 지정 가능\n",
    "cap0.set(cv2.CAP_PROP_FRAME_WIDTH, 640)\n",
    "cap0.set(cv2.CAP_PROP_FRAME_HEIGHT, 480)\n",
    "cap0.set(cv2.CAP_PROP_FRAME_COUNT, 60)\n",
    "print()\n",
    "\n",
    "# w_1 = int(cap1.get(cv2.CAP_PROP_FRAME_WIDTH))\n",
    "# h_1 = int(cap1.get(cv2.CAP_PROP_FRAME_HEIGHT))\n",
    "# print(w_1, h_1) # 640, 480\n",
    "\n",
    "\n",
    "# # set 명령어로 원하는 프레임 속성 지정 가능\n",
    "# cap1.set(cv2.CAP_PROP_FRAME_WIDTH, 640)\n",
    "# cap1.set(cv2.CAP_PROP_FRAME_HEIGHT, 480)\n",
    "# cap1.set(cv2.CAP_PROP_FRAME_COUNT, 60)"
   ]
  },
  {
   "cell_type": "code",
   "execution_count": 1,
   "id": "87dbcce5",
   "metadata": {},
   "outputs": [
    {
     "ename": "NameError",
     "evalue": "name 'cv2' is not defined",
     "output_type": "error",
     "traceback": [
      "\u001b[1;31m---------------------------------------------------------------------------\u001b[0m",
      "\u001b[1;31mNameError\u001b[0m                                 Traceback (most recent call last)",
      "\u001b[1;32m~\\AppData\\Local\\Temp/ipykernel_9808/3512923048.py\u001b[0m in \u001b[0;36m<module>\u001b[1;34m\u001b[0m\n\u001b[0;32m      1\u001b[0m \u001b[1;31m# 비디오 매 프레임 처리\u001b[0m\u001b[1;33m\u001b[0m\u001b[1;33m\u001b[0m\u001b[1;33m\u001b[0m\u001b[0m\n\u001b[1;32m----> 2\u001b[1;33m \u001b[1;32mwhile\u001b[0m \u001b[0mcv2\u001b[0m\u001b[1;33m.\u001b[0m\u001b[0mwaitKey\u001b[0m\u001b[1;33m(\u001b[0m\u001b[1;36m10\u001b[0m\u001b[1;33m)\u001b[0m \u001b[1;33m==\u001b[0m \u001b[1;36m27\u001b[0m\u001b[1;33m:\u001b[0m \u001b[1;31m# 무한 루프\u001b[0m\u001b[1;33m\u001b[0m\u001b[1;33m\u001b[0m\u001b[0m\n\u001b[0m\u001b[0;32m      3\u001b[0m     \u001b[0mret_0\u001b[0m\u001b[1;33m,\u001b[0m \u001b[0mframe_0\u001b[0m \u001b[1;33m=\u001b[0m \u001b[0mcap0\u001b[0m\u001b[1;33m.\u001b[0m\u001b[0mread\u001b[0m\u001b[1;33m(\u001b[0m\u001b[1;33m)\u001b[0m \u001b[1;31m# 두 개의 값을 반환하므로 두 변수 지정\u001b[0m\u001b[1;33m\u001b[0m\u001b[1;33m\u001b[0m\u001b[0m\n\u001b[0;32m      4\u001b[0m     \u001b[0mret_1\u001b[0m\u001b[1;33m,\u001b[0m \u001b[0mframe_1\u001b[0m \u001b[1;33m=\u001b[0m \u001b[0mcap1\u001b[0m\u001b[1;33m.\u001b[0m\u001b[0mread\u001b[0m\u001b[1;33m(\u001b[0m\u001b[1;33m)\u001b[0m\u001b[1;33m\u001b[0m\u001b[1;33m\u001b[0m\u001b[0m\n\u001b[0;32m      5\u001b[0m \u001b[1;33m\u001b[0m\u001b[0m\n",
      "\u001b[1;31mNameError\u001b[0m: name 'cv2' is not defined"
     ]
    }
   ],
   "source": [
    "# 비디오 매 프레임 처리\n",
    "while cv2.waitKey(10) == 27: # esc 인식 전까지 무한루프\n",
    "    ret_0, frame_0 = cap0.read()\n",
    "#     ret_1, frame_1 = cap1.read()\n",
    "        \n",
    "    # 정지화면에서 윤곽선을 추출\n",
    "#    edge_0 = cv2.Canny(frame_0, 50, 150)\n",
    "    \n",
    "    # 정지화면에서 윤곽선을 추출\n",
    "#    edge_1 = cv2.Canny(frame_1, 50, 150)\n",
    "    \n",
    "    inversed_0 = ~frame_0  # 반전\n",
    "#     inversed_1 = ~frame_1  # 반전\n",
    "\n",
    "    cv2.imshow('frame_0', frame_0)\n",
    "#    cv2.imshow('inversed_0', inversed_0)\n",
    "#    cv2.imshow('edge_0', edge_0)\n",
    "    \n",
    "#     cv2.imshow('frame_1', frame_1)\n",
    "#    cv2.imshow('inversed_1', inversed_1)\n",
    "#    cv2.imshow('edge_1', edge_1)\n",
    "\n",
    "    # 10ms 기다리고 다음 프레임으로 전환, Esc누르면 while 강제 종료\n",
    "\n",
    "\n",
    "cap.release() # 사용한 자원 해제\n",
    "cv2.destroyAllWindows()"
   ]
  },
  {
   "cell_type": "code",
   "execution_count": null,
   "id": "834172ec",
   "metadata": {},
   "outputs": [],
   "source": []
  },
  {
   "cell_type": "code",
   "execution_count": null,
   "id": "b828c9c8",
   "metadata": {},
   "outputs": [],
   "source": []
  }
 ],
 "metadata": {
  "kernelspec": {
   "display_name": "Python 3 (ipykernel)",
   "language": "python",
   "name": "python3"
  },
  "language_info": {
   "codemirror_mode": {
    "name": "ipython",
    "version": 3
   },
   "file_extension": ".py",
   "mimetype": "text/x-python",
   "name": "python",
   "nbconvert_exporter": "python",
   "pygments_lexer": "ipython3",
   "version": "3.7.10"
  }
 },
 "nbformat": 4,
 "nbformat_minor": 5
}
