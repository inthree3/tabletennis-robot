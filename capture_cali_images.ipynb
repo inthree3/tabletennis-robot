{
 "cells": [
  {
   "cell_type": "code",
   "execution_count": 1,
   "metadata": {},
   "outputs": [
    {
     "name": "stdout",
     "output_type": "stream",
     "text": [
      "c:\\Users\\User\\Desktop\\Dev\\tabletennis_robot\\Cali\\4K\\CAM2\n"
     ]
    }
   ],
   "source": [
    "import os\n",
    "\n",
    "#initialize the params\n",
    "target=\"\\\\Cali\\\\4K\\\\CAM2\"\n",
    "\n",
    "#change directory for saving images\n",
    "if os.getcwd().endswith(target)==False:\n",
    "    PATH=os.getcwd() + target\n",
    "    os.chdir(PATH)\n",
    "\n",
    "print(os.getcwd())"
   ]
  },
  {
   "cell_type": "code",
   "execution_count": 1,
   "metadata": {},
   "outputs": [
    {
     "name": "stdout",
     "output_type": "stream",
     "text": [
      "changed resolution width 1280.0 height 720.0\n"
     ]
    }
   ],
   "source": [
    "import cv2\n",
    "\n",
    "camera_num=1\n",
    "cap=cv2.VideoCapture(camera_num)\n",
    "\n",
    "#change camera frame to 1280 X 720\n",
    "cap.set(cv2.CAP_PROP_FRAME_WIDTH, 1280)\n",
    "cap.set(cv2.CAP_PROP_FRAME_HEIGHT, 720)\n",
    "\n",
    "#print changed frame\n",
    "width = cap.get(cv2.CAP_PROP_FRAME_WIDTH)\n",
    "height = cap.get(cv2.CAP_PROP_FRAME_HEIGHT)\n",
    "print('changed resolution width {} height {}'.format(width, height))"
   ]
  },
  {
   "cell_type": "code",
   "execution_count": null,
   "metadata": {},
   "outputs": [
    {
     "name": "stdout",
     "output_type": "stream",
     "text": [
      "frame type:  -1.0\n",
      "frame height:  720.0\n",
      "frame width:  1280.0\n"
     ]
    }
   ],
   "source": [
    "#capture the checkerboard\n",
    "import cv2\n",
    "import os\n",
    "\n",
    "#initialize the params\n",
    "pic_num=0\n",
    "\n",
    "camera_num=1\n",
    "cap=cv2.VideoCapture(camera_num)\n",
    "\n",
    "#change camera frame to 1280 X 720\n",
    "cap.set(cv2.CAP_PROP_FRAME_WIDTH, 1280)\n",
    "cap.set(cv2.CAP_PROP_FRAME_HEIGHT, 720)\n",
    "cap.set(cv2.CAP_PROP_AUTOFOCUS, 0)\n",
    "\n",
    "if cap.isOpened():\n",
    "    #print the information of current camera\n",
    "    print(\"frame type: \", cap.get(cv2.CAP_PROP_FRAME_TYPE))\n",
    "    print(\"frame height: \", cap.get(cv2.CAP_PROP_FRAME_HEIGHT))\n",
    "    print(\"frame width: \", cap.get(cv2.CAP_PROP_FRAME_WIDTH))\n",
    "\n",
    "    #capture the checkerboard images\n",
    "    while True:\n",
    "        ret, img=cap.read()\n",
    "        if ret:\n",
    "            cv2.imshow('camera', img)\n",
    "            # command=input(\"Waiting for yout keyboard press: c for capture, q for quit\")\n",
    "            command=cv2.waitKey(1)\n",
    "            if command==ord(\"c\"):\n",
    "                    cv2.imwrite(f\"checkerboard{pic_num}_cam{camera_num}.jpg\", img)\n",
    "                    pic_num+=1\n",
    "            elif command==ord(\"q\"):\n",
    "                break\n",
    "        else:\n",
    "            print(\"no frame!\")\n",
    "            break\n",
    "    cap.release()\n",
    "else:\n",
    "    print(\"cannot open camera\")\n",
    "cap.release()\n",
    "cv2.destroyAllWindows()"
   ]
  },
  {
   "cell_type": "code",
   "execution_count": 2,
   "metadata": {},
   "outputs": [
    {
     "name": "stdout",
     "output_type": "stream",
     "text": [
      "frame type:  -1.0\n",
      "frame height:  720.0\n",
      "frame width:  1280.0\n"
     ]
    }
   ],
   "source": [
    "#capture the checkerboard\n",
    "import cv2\n",
    "import os\n",
    "import numpy as np\n",
    "\n",
    "#initialize the params\n",
    "pic_num=0\n",
    "\n",
    "camera_num=1\n",
    "cap=cv2.VideoCapture(camera_num)\n",
    "\n",
    "#change camera frame to 1280 X 720\n",
    "cap.set(cv2.CAP_PROP_FRAME_WIDTH, 1280)\n",
    "cap.set(cv2.CAP_PROP_FRAME_HEIGHT, 720)\n",
    "cap.set(cv2.CAP_PROP_AUTOFOCUS, 0)\n",
    "\n",
    "cam1_int = np.array([[814.49848129, 0., 568.49302368], [0., 805.90235641, 369.59529032], [0., 0., 1.]])\n",
    "mtx1 = cam1_int\n",
    "h, w = np.array([720, 1280])\n",
    "\n",
    "#hstack: 가로로 두 array 붙이는 연산\n",
    "dist1 = np.array([0.3166118, -0.49218699, -0.0046719, -0.03840587, 0.25442361])\n",
    "\n",
    "newcameraMtx1, roi1 = cv2.getOptimalNewCameraMatrix(cam1_int, dist1, (w, h), 1, (w, h))\n",
    "\n",
    "mapx1, mapy1 = cv2.initUndistortRectifyMap(mtx1, dist1, None, newcameraMtx1, (w, h), 5)\n",
    "\n",
    "if cap.isOpened():\n",
    "    #print the information of current camera\n",
    "    print(\"frame type: \", cap.get(cv2.CAP_PROP_FRAME_TYPE))\n",
    "    print(\"frame height: \", cap.get(cv2.CAP_PROP_FRAME_HEIGHT))\n",
    "    print(\"frame width: \", cap.get(cv2.CAP_PROP_FRAME_WIDTH))\n",
    "\n",
    "    #capture the checkerboard images\n",
    "    while True:\n",
    "        ret, img=cap.read()\n",
    "        img = cv2.remap(img, mapx1, mapy1, cv2.INTER_LINEAR)\n",
    "        if ret:\n",
    "            cv2.imshow('camera', img)\n",
    "            # command=input(\"Waiting for yout keyboard press: c for capture, q for quit\")\n",
    "            command=cv2.waitKey(1)\n",
    "            if command==ord(\"c\"):\n",
    "                    cv2.imwrite(f\"checkerboard{pic_num}_cam{camera_num}.jpg\", img)\n",
    "                    pic_num+=1\n",
    "            elif command==ord(\"q\"):\n",
    "                break\n",
    "        else:\n",
    "            print(\"no frame!\")\n",
    "            break\n",
    "    cap.release()\n",
    "else:\n",
    "    print(\"cannot open camera\")\n",
    "cap.release()\n",
    "cv2.destroyAllWindows()"
   ]
  },
  {
   "cell_type": "code",
   "execution_count": null,
   "metadata": {},
   "outputs": [],
   "source": []
  }
 ],
 "metadata": {
  "kernelspec": {
   "display_name": "Python 3",
   "language": "python",
   "name": "python3"
  },
  "language_info": {
   "codemirror_mode": {
    "name": "ipython",
    "version": 3
   },
   "file_extension": ".py",
   "mimetype": "text/x-python",
   "name": "python",
   "nbconvert_exporter": "python",
   "pygments_lexer": "ipython3",
   "version": "3.11.4"
  },
  "orig_nbformat": 4
 },
 "nbformat": 4,
 "nbformat_minor": 2
}
