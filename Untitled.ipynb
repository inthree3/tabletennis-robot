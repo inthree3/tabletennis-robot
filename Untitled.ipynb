{
 "cells": [
  {
   "cell_type": "code",
   "execution_count": 2,
   "id": "29f331ef",
   "metadata": {},
   "outputs": [],
   "source": [
    "import math\n",
    "import cv2\n",
    "import numpy as np\n",
    "import matplotlib.pyplot as plt"
   ]
  },
  {
   "cell_type": "code",
   "execution_count": 20,
   "id": "79d65309",
   "metadata": {},
   "outputs": [],
   "source": [
    "cam1_R=np.array([[0.9549,-0.2120,0.2078],\n",
    "                  [0.2953,0.7503,-0.5914],\n",
    "                  [-0.0305,0.6261,0.7791]])\n",
    "\n",
    "cam2_R=-np.array([[0.7009,-0.3537,0.6194],\n",
    "                  [0.7128,0.3172,-0.6255],\n",
    "                  [0.0248,0.8799,0.4744]])"
   ]
  },
  {
   "cell_type": "code",
   "execution_count": 21,
   "id": "0728240e",
   "metadata": {},
   "outputs": [],
   "source": [
    "cam1_T=np.array([-1141.732,135.2270,1683.209])\n",
    "\n",
    "cam2_T=np.array([-394.3632,163.9281,1394.106])"
   ]
  },
  {
   "cell_type": "code",
   "execution_count": 22,
   "id": "4d979627",
   "metadata": {},
   "outputs": [
    {
     "name": "stdout",
     "output_type": "stream",
     "text": [
      "[[-9.549000e-01  2.120000e-01 -2.078000e-01 -1.141732e+03]\n",
      " [-2.953000e-01 -7.503000e-01  5.914000e-01  1.352270e+02]\n",
      " [ 3.050000e-02 -6.261000e-01 -7.791000e-01  1.683209e+03]]\n",
      "[[-7.009000e-01  3.537000e-01 -6.194000e-01 -3.943632e+02]\n",
      " [-7.128000e-01 -3.172000e-01  6.255000e-01  1.639281e+02]\n",
      " [-2.480000e-02 -8.799000e-01 -4.744000e-01  1.394106e+03]]\n"
     ]
    }
   ],
   "source": [
    "cam1_Trans=np.zeros((3,4))\n",
    "cam2_Trans=np.zeros((3,4))\n",
    "\n",
    "cam1_Trans[:3,:3]=cam1_R\n",
    "cam1_Trans[:3,3]=cam1_T\n",
    "# cam1_Trans[3,:]=[0,0,0,1]\n",
    "\n",
    "cam2_Trans[:3,:3]=cam2_R\n",
    "cam2_Trans[:3,3]=cam2_T\n",
    "# cam2_Trans[3,:]=[0,0,0,1]\n",
    "\n",
    "print(cam1_Trans)\n",
    "\n",
    "print(cam2_Trans)"
   ]
  },
  {
   "cell_type": "code",
   "execution_count": 23,
   "id": "f2866843",
   "metadata": {},
   "outputs": [],
   "source": [
    "I_matrix=np.array([[1,0,0,0],[0,1,0,0],[0,0,1,0]])"
   ]
  },
  {
   "cell_type": "code",
   "execution_count": 24,
   "id": "c5937b4d",
   "metadata": {},
   "outputs": [
    {
     "name": "stdout",
     "output_type": "stream",
     "text": [
      "intrinsics Matrix\n",
      "\n",
      "[[763.2494   0.     648.2271]\n",
      " [  0.     764.9436 345.677 ]\n",
      " [  0.       0.       1.    ]]\n",
      "[[940.6457   0.     639.3781]\n",
      " [  0.     942.874  369.1142]\n",
      " [  0.       0.       1.    ]]\n"
     ]
    }
   ],
   "source": [
    "#Focallength(Re)\n",
    "cam1_f=np.array([763.2494,764.9436])\n",
    "cam2_f=np.array([940.6457,942.8740])\n",
    "\n",
    "#Principle Point(Re)\n",
    "cam1_c=np.array([648.2271,345.6770])\n",
    "cam2_c=np.array([639.3781,369.1142])\n",
    "\n",
    "#Distortion\n",
    "cam1_dist_r=np.array([0.2033,-0.4879,0.2806])\n",
    "cam1_dist_t=np.array([0,0])\n",
    "cam2_dist_r=np.array([0.2134,-0.5762,0.4176])\n",
    "cam2_dist_t=np.array([0,0])\n",
    "\n",
    "#Intrinsics Matrix\n",
    "cam1_int=np.array([[cam1_f[0],0,cam1_c[0]],[0,cam1_f[1],cam1_c[1]],[0,0,1]])\n",
    "cam2_int=np.array([[cam2_f[0],0,cam2_c[0]],[0,cam2_f[1],cam2_c[1]],[0,0,1]])\n",
    "\n",
    "print('intrinsics Matrix')\n",
    "print('')\n",
    "print(cam1_int)\n",
    "print(cam2_int)"
   ]
  },
  {
   "cell_type": "code",
   "execution_count": 25,
   "id": "677941da",
   "metadata": {},
   "outputs": [],
   "source": [
    "ball_cam1=np.array([583,299])\n",
    "ball_cam2=np.array([760,277])"
   ]
  },
  {
   "cell_type": "code",
   "execution_count": 26,
   "id": "ea57d298",
   "metadata": {},
   "outputs": [
    {
     "name": "stdout",
     "output_type": "stream",
     "text": [
      "3D-Ball\n",
      "[[-2.05531852]\n",
      " [-0.9546508 ]\n",
      " [-1.23446988]]\n"
     ]
    }
   ],
   "source": [
    "res = cv2.triangulatePoints(cam1_Trans, cam2_Trans, ball_cam1, ball_cam2) # now try to get those 3d-positions back using triangulation\n",
    "print(\"3D-Ball\")\n",
    "print(res[:3]/res[-1]) # again, normalize b/c of homogenuous coordinates"
   ]
  },
  {
   "cell_type": "code",
   "execution_count": null,
   "id": "c934aa7c",
   "metadata": {},
   "outputs": [],
   "source": []
  }
 ],
 "metadata": {
  "kernelspec": {
   "display_name": "Python 3 (ipykernel)",
   "language": "python",
   "name": "python3"
  },
  "language_info": {
   "codemirror_mode": {
    "name": "ipython",
    "version": 3
   },
   "file_extension": ".py",
   "mimetype": "text/x-python",
   "name": "python",
   "nbconvert_exporter": "python",
   "pygments_lexer": "ipython3",
   "version": "3.7.10"
  }
 },
 "nbformat": 4,
 "nbformat_minor": 5
}
