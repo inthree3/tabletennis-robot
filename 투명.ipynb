{
 "cells": [
  {
   "cell_type": "code",
   "execution_count": 2,
   "id": "4074c63c",
   "metadata": {},
   "outputs": [
    {
     "data": {
      "text/plain": [
       "True"
      ]
     },
     "execution_count": 2,
     "metadata": {},
     "output_type": "execute_result"
    }
   ],
   "source": [
    "import cv2\n",
    "import numpy as np\n",
    "# Load Image\n",
    "im = cv2.imread('cam2_mask_2.jpg')\n",
    "# Convert to HSV and take V channel\n",
    "V = cv2.cvtColor(im,cv2.COLOR_BGR2HSV)[...,2]\n",
    "# Threshold V channel at 100 to make alpha channel (A)\n",
    "_, A = cv2.threshold(V,100,255,cv2.THRESH_BINARY)\n",
    "# Stack A channel onto RGB channels\n",
    "result = np.dstack((im,A))\n",
    "# Save result\n",
    "cv2.imwrite('cam2_mask_2.png',result)"
   ]
  }
 ],
 "metadata": {
  "kernelspec": {
   "display_name": "Python 3 (ipykernel)",
   "language": "python",
   "name": "python3"
  },
  "language_info": {
   "codemirror_mode": {
    "name": "ipython",
    "version": 3
   },
   "file_extension": ".py",
   "mimetype": "text/x-python",
   "name": "python",
   "nbconvert_exporter": "python",
   "pygments_lexer": "ipython3",
   "version": "3.7.10"
  }
 },
 "nbformat": 4,
 "nbformat_minor": 5
}
