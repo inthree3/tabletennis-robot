{
 "cells": [
  {
   "cell_type": "code",
   "execution_count": 2,
   "id": "6ff51552",
   "metadata": {},
   "outputs": [],
   "source": [
    "import math\n",
    "import cv2\n",
    "import numpy as np\n",
    "import matplotlib.pyplot as plt"
   ]
  },
  {
   "cell_type": "code",
   "execution_count": 3,
   "id": "e48d9b33",
   "metadata": {},
   "outputs": [],
   "source": [
    "h,w=np.array([720,1280])"
   ]
  },
  {
   "cell_type": "code",
   "execution_count": 4,
   "id": "8b520043",
   "metadata": {},
   "outputs": [
    {
     "name": "stdout",
     "output_type": "stream",
     "text": [
      "intrinsics Matrix\n",
      "\n",
      "[[766.8537   0.     647.6205]\n",
      " [  0.     769.1458 345.3208]\n",
      " [  0.       0.       1.    ]]\n",
      "[[765.3281   0.     641.5385]\n",
      " [  0.     767.4927 366.9369]\n",
      " [  0.       0.       1.    ]]\n",
      "[[766.8537   0.     647.6205]\n",
      " [  0.     769.1458 345.3208]\n",
      " [  0.       0.       1.    ]]\n",
      "[ 0.1313 -0.2132  0.      0.    ]\n",
      "\n",
      "[[765.3281   0.     641.5385]\n",
      " [  0.     767.4927 366.9369]\n",
      " [  0.       0.       1.    ]]\n",
      "[ 0.1331 -0.2226  0.      0.    ]\n",
      "[[595.25317383   0.         689.30863465]\n",
      " [  0.         597.20495605 320.08694962]\n",
      " [  0.           0.           1.        ]]\n",
      "\n",
      "[[556.05267334   0.         654.94962865]\n",
      " [  0.         570.4743042  383.23937701]\n",
      " [  0.           0.           1.        ]]\n",
      "(176, 57, 1010, 548)\n",
      "(178, 116, 950, 525)\n",
      "[[ 7.24291257e+02 -1.63066551e+02  5.27569893e+02  4.70626867e+05]\n",
      " [-9.01468799e+01  2.55537719e+02  6.21023433e+02  6.43994315e+05]\n",
      " [ 2.52628967e-01 -5.65744744e-01  7.84924891e-01  1.66910000e+03]]\n",
      "[[ 7.95541214e+02 -1.14077289e+01  3.24235699e+02  6.94600971e+05]\n",
      " [ 3.59837627e+01 -5.93832712e+01  6.83719783e+02  6.30677097e+05]\n",
      " [ 6.21286787e-01 -6.24229089e-01  4.73581713e-01  1.39890000e+03]]\n"
     ]
    }
   ],
   "source": [
    "# lets leave rotation and the camera matrix unchanged\n",
    "\n",
    "\n",
    "R0=np.linalg.inv(np.array([[0.9242,-0.2864,0.2526],\n",
    "                  [0.3812,0.7312,-0.5658],\n",
    "                  [-0.0227,0.6192,0.7849]]))\n",
    "\n",
    "R1=np.linalg.inv(np.array([[0.6989,-0.3543,0.6213],\n",
    "                  [0.7148,0.3153,-0.6243],\n",
    "                  [0.0253,0.8804,0.4736]]))\n",
    "\n",
    "T0=np.array([-1142.2,183.7513,1669.1])\n",
    "\n",
    "T1=np.array([-398.5379,165.7630,1398.9])\n",
    "\n",
    "#Focallength(Re)\n",
    "cam0_f=np.array([766.8537,769.1458])\n",
    "cam1_f=np.array([765.3281,767.4927])\n",
    "\n",
    "#Principle Point(Re)\n",
    "cam0_c=np.array([647.6205,345.3208])\n",
    "cam1_c=np.array([641.5385,366.9369])\n",
    "\n",
    "#Distortion\n",
    "cam0_dist_r=np.array([0.1313,-0.2132])\n",
    "cam0_dist_t=np.array([0,0])\n",
    "cam1_dist_r=np.array([0.1331,-0.2226])\n",
    "cam1_dist_t=np.array([0,0])\n",
    "\n",
    "#Intrinsics Matrix\n",
    "cam0_int=np.array([[cam0_f[0],0,cam0_c[0]],[0,cam0_f[1],cam0_c[1]],[0,0,1]])\n",
    "cam1_int=np.array([[cam1_f[0],0,cam1_c[0]],[0,cam1_f[1],cam1_c[1]],[0,0,1]])\n",
    "\n",
    "print('intrinsics Matrix')\n",
    "print('')\n",
    "print(cam0_int)\n",
    "print(cam1_int)\n",
    "\n",
    "mtx0=cam0_int\n",
    "mtx1=cam1_int\n",
    "dist0=np.hstack([cam0_dist_r, cam0_dist_t])\n",
    "dist1=np.hstack([cam1_dist_r, cam1_dist_t])\n",
    "print(mtx0)\n",
    "print(dist0)\n",
    "print(\"\")\n",
    "print(mtx1)\n",
    "print(dist1)\n",
    "\n",
    "#calibration for new camera matrix\n",
    "\n",
    "newcameraMtx0,roi0=cv2.getOptimalNewCameraMatrix(mtx0,dist0,(w,h),1,(w,h))\n",
    "print(newcameraMtx0)\n",
    "print(\"\")\n",
    "newcameraMtx1,roi1=cv2.getOptimalNewCameraMatrix(mtx1,dist1,(w,h),1,(w,h))\n",
    "print(newcameraMtx1)\n",
    "\n",
    "print(roi0)\n",
    "print(roi1)\n",
    "\n",
    "\n",
    "# T0 = np.array([0,0,0]) # Translation vector\n",
    "RT0 = np.zeros((3,4))  # combined Rotation/Translation matrix\n",
    "RT0[:3,:3] = R0\n",
    "RT0[:3, 3] = T0\n",
    "P0 = np.dot(newcameraMtx0, RT0) # Projection matrix\n",
    "\n",
    "# # define pose 1\n",
    "\n",
    "# T1 = np.array([0,0,2.])\n",
    "RT1 = np.zeros((3,4))\n",
    "RT1[:3,:3] = R1\n",
    "RT1[:3, 3] = T1\n",
    "P1 = np.dot(newcameraMtx1, RT1)\n",
    "\n",
    "print(P0)\n",
    "print(P1)\n",
    "\n",
    "mapx0,mapy0=cv2.initUndistortRectifyMap(mtx0,dist0,None,newcameraMtx0,(w,h),5)\n",
    "mapx1,mapy1=cv2.initUndistortRectifyMap(mtx1,dist1,None,newcameraMtx1,(w,h),5)"
   ]
  },
  {
   "cell_type": "code",
   "execution_count": 5,
   "id": "9506cd58",
   "metadata": {},
   "outputs": [
    {
     "name": "stdout",
     "output_type": "stream",
     "text": [
      "[857.44182068 307.92048232   1.        ]\n",
      "[910.36543741 302.07180983   1.        ]\n"
     ]
    },
    {
     "data": {
      "image/png": "[encoded data removed]",
      "text/plain": [
       "<Figure size 432x288 with 1 Axes>"
      ]
     },
     "metadata": {
      "needs_background": "light"
     },
     "output_type": "display_data"
    }
   ],
   "source": [
    "wcsp = np.array([1670, 350, 0, 1.]) # define an arbitrary 3D point in world coordinates\n",
    "\n",
    "icsp0 = np.dot(P0, wcsp) # project this point using the first camera pose\n",
    "\n",
    "# print(icsp0)\n",
    "# #음수 인덱스 -> 끝에서 첫번째\n",
    "# print(icsp0[-1])\n",
    "icsp0 = icsp0/icsp0[-1] # normalize as we are in homogenuous coordinates\n",
    "print(icsp0)\n",
    "\n",
    "icsp1 = np.dot(P1, wcsp)\n",
    "icsp1 = icsp1/icsp1[-1]\n",
    "print(icsp1)\n",
    "\n",
    "# plot the projection\n",
    "fig = plt.figure()\n",
    "plt.xlim((0,1280))\n",
    "plt.ylim((0,720))\n",
    "\n",
    "plt.plot(icsp0[0], icsp0[1], 'ko')\n",
    "plt.plot(icsp1[0], icsp1[1], 'ro')\n",
    "# plt.plot(583, 299, 'ko')\n",
    "# plt.plot(760, 277, 'ro') \n",
    "    \n",
    "plt.axvline(cam0_c[0], alpha=0.2)\n",
    "plt.axhline(cam0_c[1], alpha=0.2)\n",
    "plt.axvline(cam1_c[0], alpha=0.5)\n",
    "plt.axhline(cam1_c[1], alpha=0.5)\n",
    "\n",
    "plt.show()"
   ]
  },
  {
   "cell_type": "code",
   "execution_count": 6,
   "id": "bba94b3a",
   "metadata": {},
   "outputs": [
    {
     "name": "stdout",
     "output_type": "stream",
     "text": [
      "[[ 7.24291257e+02 -1.63066551e+02  5.27569893e+02  4.70626867e+05]\n",
      " [-9.01468799e+01  2.55537719e+02  6.21023433e+02  6.43994315e+05]\n",
      " [ 2.52628967e-01 -5.65744744e-01  7.84924891e-01  1.66910000e+03]]\n",
      "[[ 7.95541214e+02 -1.14077289e+01  3.24235699e+02  6.94600971e+05]\n",
      " [ 3.59837627e+01 -5.93832712e+01  6.83719783e+02  6.30677097e+05]\n",
      " [ 6.21286787e-01 -6.24229089e-01  4.73581713e-01  1.39890000e+03]]\n",
      "[[-9.78735763e-01]\n",
      " [-2.05124262e-01]\n",
      " [-3.03018213e-17]\n",
      " [-5.86069319e-04]]\n",
      "3D-Ball\n",
      "[[1.67000000e+03]\n",
      " [3.50000000e+02]\n",
      " [5.17034766e-14]]\n"
     ]
    }
   ],
   "source": [
    "print(P0)\n",
    "print(P1)\n",
    "\n",
    "# res = cv2.triangulatePoints(P0, P1, np.array([icsp0[0],icsp0[1]]), np.array([icsp1[0],icsp1[1]]))\n",
    "res = cv2.triangulatePoints(P0, P1, np.array([icsp0[0], icsp0[1]]), np.array([icsp1[0], icsp1[1]]))\n",
    "\n",
    "print(res)\n",
    "print(\"3D-Ball\")\n",
    "print(res[:3]/res[-1]) # again, normalize b/c of homogenuous coordinates"
   ]
  },
  {
   "cell_type": "code",
   "execution_count": null,
   "id": "e021f8a5",
   "metadata": {},
   "outputs": [],
   "source": []
  },
  {
   "cell_type": "code",
   "execution_count": null,
   "id": "f651ec89",
   "metadata": {},
   "outputs": [],
   "source": []
  }
 ],
 "metadata": {
  "kernelspec": {
   "display_name": "Python 3 (ipykernel)",
   "language": "python",
   "name": "python3"
  },
  "language_info": {
   "codemirror_mode": {
    "name": "ipython",
    "version": 3
   },
   "file_extension": ".py",
   "mimetype": "text/x-python",
   "name": "python",
   "nbconvert_exporter": "python",
   "pygments_lexer": "ipython3",
   "version": "3.7.10"
  }
 },
 "nbformat": 4,
 "nbformat_minor": 5
}
