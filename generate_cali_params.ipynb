{
 "cells": [
  {
   "cell_type": "code",
   "execution_count": 1,
   "metadata": {},
   "outputs": [
    {
     "name": "stdout",
     "output_type": "stream",
     "text": [
      "c:\\Users\\User\\Desktop\\Dev\\tabletennis_robot\\Cali\\4K\\CAM2\n"
     ]
    }
   ],
   "source": [
    "import os\n",
    "\n",
    "#initialize the params\n",
    "target=\"\\\\Cali\\\\4K\\\\CAM2\"\n",
    "\n",
    "#change directory for saving images\n",
    "if os.getcwd().endswith(target)==False:\n",
    "    PATH=os.getcwd() + target\n",
    "    os.chdir(PATH)\n",
    "\n",
    "print(os.getcwd())"
   ]
  },
  {
   "cell_type": "code",
   "execution_count": 32,
   "metadata": {},
   "outputs": [
    {
     "name": "stdout",
     "output_type": "stream",
     "text": [
      "changed resolution width 1280.0 height 720.0\n"
     ]
    }
   ],
   "source": [
    "import cv2\n",
    "\n",
    "camera_num=1\n",
    "cap=cv2.VideoCapture(camera_num)\n",
    "\n",
    "#change camera frame to 1280 X 720\n",
    "cap.set(cv2.CAP_PROP_FRAME_WIDTH, 1280)\n",
    "cap.set(cv2.CAP_PROP_FRAME_HEIGHT, 720)\n",
    "\n",
    "#print changed frame\n",
    "width = cap.get(cv2.CAP_PROP_FRAME_WIDTH)\n",
    "height = cap.get(cv2.CAP_PROP_FRAME_HEIGHT)\n",
    "print('changed resolution width {} height {}'.format(width, height))"
   ]
  },
  {
   "cell_type": "code",
   "execution_count": 2,
   "metadata": {},
   "outputs": [
    {
     "name": "stdout",
     "output_type": "stream",
     "text": [
      "frame type:  -1.0\n",
      "frame height:  720.0\n",
      "frame width:  1280.0\n"
     ]
    }
   ],
   "source": [
    "#capture the checkerboard\n",
    "import cv2\n",
    "import os\n",
    "\n",
    "#initialize the params\n",
    "pic_num=0\n",
    "\n",
    "camera_num=1\n",
    "cap=cv2.VideoCapture(camera_num)\n",
    "\n",
    "#change camera frame to 1280 X 720\n",
    "cap.set(cv2.CAP_PROP_FRAME_WIDTH, 1280)\n",
    "cap.set(cv2.CAP_PROP_FRAME_HEIGHT, 720)\n",
    "cap.set(cv2.CAP_PROP_AUTOFOCUS, 0)\n",
    "\n",
    "if cap.isOpened():\n",
    "    #print the information of current camera\n",
    "    print(\"frame type: \", cap.get(cv2.CAP_PROP_FRAME_TYPE))\n",
    "    print(\"frame height: \", cap.get(cv2.CAP_PROP_FRAME_HEIGHT))\n",
    "    print(\"frame width: \", cap.get(cv2.CAP_PROP_FRAME_WIDTH))\n",
    "\n",
    "    #capture the checkerboard images\n",
    "    while True:\n",
    "        ret, img=cap.read()\n",
    "        if ret:\n",
    "            cv2.imshow('camera', img)\n",
    "            # command=input(\"Waiting for yout keyboard press: c for capture, q for quit\")\n",
    "            command=cv2.waitKey(1)\n",
    "            if command==ord(\"c\"):\n",
    "                    cv2.imwrite(f\"checkerboard{pic_num}_cam{camera_num}.jpg\", img)\n",
    "                    pic_num+=1\n",
    "            elif command==ord(\"q\"):\n",
    "                break\n",
    "        else:\n",
    "            print(\"no frame!\")\n",
    "            break\n",
    "    cap.release()\n",
    "else:\n",
    "    print(\"cannot open camera\")\n",
    "cap.release()\n",
    "cv2.destroyAllWindows()"
   ]
  },
  {
   "cell_type": "code",
   "execution_count": 1,
   "metadata": {},
   "outputs": [
    {
     "name": "stdout",
     "output_type": "stream",
     "text": [
      "cv2 corner detection result:  True\n",
      "h, w:  720 1280\n",
      "objpoints:  [array([[[0., 0., 0.],\n",
      "        [1., 0., 0.],\n",
      "        [2., 0., 0.],\n",
      "        [3., 0., 0.],\n",
      "        [4., 0., 0.],\n",
      "        [0., 1., 0.],\n",
      "        [1., 1., 0.],\n",
      "        [2., 1., 0.],\n",
      "        [3., 1., 0.],\n",
      "        [4., 1., 0.],\n",
      "        [0., 2., 0.],\n",
      "        [1., 2., 0.],\n",
      "        [2., 2., 0.],\n",
      "        [3., 2., 0.],\n",
      "        [4., 2., 0.],\n",
      "        [0., 3., 0.],\n",
      "        [1., 3., 0.],\n",
      "        [2., 3., 0.],\n",
      "        [3., 3., 0.],\n",
      "        [4., 3., 0.],\n",
      "        [0., 4., 0.],\n",
      "        [1., 4., 0.],\n",
      "        [2., 4., 0.],\n",
      "        [3., 4., 0.],\n",
      "        [4., 4., 0.],\n",
      "        [0., 5., 0.],\n",
      "        [1., 5., 0.],\n",
      "        [2., 5., 0.],\n",
      "        [3., 5., 0.],\n",
      "        [4., 5., 0.],\n",
      "        [0., 6., 0.],\n",
      "        [1., 6., 0.],\n",
      "        [2., 6., 0.],\n",
      "        [3., 6., 0.],\n",
      "        [4., 6., 0.]]], dtype=float32)]\n"
     ]
    },
    {
     "ename": "error",
     "evalue": "OpenCV(4.8.0) :-1: error: (-5:Bad argument) in function 'solvePnP'\n> Overload resolution failed:\n>  - objectPoints is not a numpy array, neither a scalar\n>  - Expected Ptr<cv::UMat> for argument 'objectPoints'\n",
     "output_type": "error",
     "traceback": [
      "\u001b[1;31m---------------------------------------------------------------------------\u001b[0m",
      "\u001b[1;31merror\u001b[0m                                     Traceback (most recent call last)",
      "Cell \u001b[1;32mIn[1], line 61\u001b[0m\n\u001b[0;32m     58\u001b[0m \u001b[39m#with the true 3D points and given 2D points, do calibration\u001b[39;00m\n\u001b[0;32m     59\u001b[0m ret, mtx, dist, rvecs, tvecs\u001b[39m=\u001b[39mcv2\u001b[39m.\u001b[39mcalibrateCamera(objpoints, imgpoints, gray\u001b[39m.\u001b[39mshape[::\u001b[39m-\u001b[39m\u001b[39m1\u001b[39m], \u001b[39mNone\u001b[39;00m, \u001b[39mNone\u001b[39;00m)\n\u001b[1;32m---> 61\u001b[0m ret, rvec, tvec\u001b[39m=\u001b[39mcv2\u001b[39m.\u001b[39;49msolvePnP(objpoints, imgpoints, mtx, dist, \u001b[39mNone\u001b[39;49;00m, \u001b[39mNone\u001b[39;49;00m)\n",
      "\u001b[1;31merror\u001b[0m: OpenCV(4.8.0) :-1: error: (-5:Bad argument) in function 'solvePnP'\n> Overload resolution failed:\n>  - objectPoints is not a numpy array, neither a scalar\n>  - Expected Ptr<cv::UMat> for argument 'objectPoints'\n"
     ]
    }
   ],
   "source": [
    "#rvec, tvec for 3D mapping\n",
    "import cv2\n",
    "import numpy as np\n",
    "import os\n",
    "\n",
    "#define the board's dimension\n",
    "CHECKERBOARD=(5, 7)\n",
    "criteria=(cv2.TERM_CRITERIA_EPS + cv2.TERM_CRITERIA_MAX_ITER, 100000, 0.000000001)\n",
    "\n",
    "#generate vector of 3D points\n",
    "objpoints=[]\n",
    "\n",
    "#generate vector of 2D points\n",
    "imgpoints=[]\n",
    "\n",
    "#define world matrix\n",
    "objp=np.zeros((1, CHECKERBOARD[0]*CHECKERBOARD[1], 3), np.float32)\n",
    "objp[0, :, :2]=np.mgrid[0: CHECKERBOARD[0], 0:CHECKERBOARD[1]].T.reshape(-1, 2)\n",
    "prev_img_shape=None\n",
    "\n",
    "fname=\"cam0_ex.jpg\"\n",
    "img=cv2.imread(fname)\n",
    "\n",
    "#invert into gray scale\n",
    "gray=cv2.cvtColor(img, cv2.COLOR_BGR2GRAY)\n",
    "\n",
    "#find corners of the checkerboard\n",
    "ret, corners=cv2.findChessboardCorners(gray, CHECKERBOARD, cv2.CALIB_CB_ADAPTIVE_THRESH+cv2.CALIB_CB_FAST_CHECK+cv2.CALIB_CB_NORMALIZE_IMAGE)\n",
    "print(\"cv2 corner detection result: \", ret)\n",
    "\n",
    "#if the desired number of corners is found\n",
    "if ret==True:\n",
    "    objpoints.append(objp)\n",
    "    \n",
    "    #fine tunning the matrix based on given 2D points\n",
    "    corners2=cv2.cornerSubPix(gray, corners, (11, 11), (-1, -1), criteria) \n",
    "    imgpoints.append(corners2)\n",
    "    # print(\"corners2: \", corners2)\n",
    "\n",
    "    #illustrate the corners\n",
    "    img=cv2.drawChessboardCorners(img, CHECKERBOARD, corners2, ret)\n",
    "\n",
    "# elif ret==False:\n",
    "#     os.remove(fname)\n",
    "    \n",
    "cv2.imshow('cali result', img)\n",
    "cv2.waitKey(0)\n",
    "\n",
    "\n",
    "\n",
    "cv2.destroyAllWindows()\n",
    "h, w=img.shape[:2]\n",
    "print(\"h, w: \", h, w)\n",
    "\n",
    "#check the results\n",
    "print(\"objpoints: \", objpoints)\n",
    "\n",
    "#with the true 3D points and given 2D points, do calibration\n",
    "ret, mtx, dist, rvecs, tvecs=cv2.calibrateCamera(objpoints, imgpoints, gray.shape[::-1], None, None)\n",
    "\n"
   ]
  },
  {
   "cell_type": "code",
   "execution_count": 32,
   "metadata": {},
   "outputs": [
    {
     "name": "stdout",
     "output_type": "stream",
     "text": [
      "['c:\\\\Users\\\\User\\\\Desktop\\\\Dev\\\\tabletennis_robot\\\\cam0_ex.jpg', 'c:\\\\Users\\\\User\\\\Desktop\\\\Dev\\\\tabletennis_robot\\\\cam0_mask_img.jpg', 'c:\\\\Users\\\\User\\\\Desktop\\\\Dev\\\\tabletennis_robot\\\\cam0_mask_making.jpg', 'c:\\\\Users\\\\User\\\\Desktop\\\\Dev\\\\tabletennis_robot\\\\cam0_mask_making_cali.jpg', 'c:\\\\Users\\\\User\\\\Desktop\\\\Dev\\\\tabletennis_robot\\\\cam0_mask_v2.jpg', 'c:\\\\Users\\\\User\\\\Desktop\\\\Dev\\\\tabletennis_robot\\\\cam1_ex.jpg', 'c:\\\\Users\\\\User\\\\Desktop\\\\Dev\\\\tabletennis_robot\\\\cam1_mask_cali.jpg', 'c:\\\\Users\\\\User\\\\Desktop\\\\Dev\\\\tabletennis_robot\\\\cam1_mask_cali_v2.jpg', 'c:\\\\Users\\\\User\\\\Desktop\\\\Dev\\\\tabletennis_robot\\\\cam1_mask_img.jpg', 'c:\\\\Users\\\\User\\\\Desktop\\\\Dev\\\\tabletennis_robot\\\\cam1_mask_making.jpg', 'c:\\\\Users\\\\User\\\\Desktop\\\\Dev\\\\tabletennis_robot\\\\cam1_mask_making_cali.jpg', 'c:\\\\Users\\\\User\\\\Desktop\\\\Dev\\\\tabletennis_robot\\\\cam1_mask_v2.jpg']\n"
     ]
    },
    {
     "ename": "error",
     "evalue": "OpenCV(4.8.0) D:\\a\\opencv-python\\opencv-python\\opencv\\modules\\calib3d\\src\\calibinit.cpp:492: error: (-211:One of the arguments' values is out of range) Both width and height of the pattern should have bigger than 2 in function 'cv::findChessboardCorners'\n",
     "output_type": "error",
     "traceback": [
      "\u001b[1;31m---------------------------------------------------------------------------\u001b[0m",
      "\u001b[1;31merror\u001b[0m                                     Traceback (most recent call last)",
      "Cell \u001b[1;32mIn[32], line 37\u001b[0m\n\u001b[0;32m     34\u001b[0m gray\u001b[39m=\u001b[39mcv2\u001b[39m.\u001b[39mcvtColor(img, cv2\u001b[39m.\u001b[39mCOLOR_BGR2GRAY)\n\u001b[0;32m     36\u001b[0m \u001b[39m#find corners of the checkerboard\u001b[39;00m\n\u001b[1;32m---> 37\u001b[0m ret, corners\u001b[39m=\u001b[39mcv2\u001b[39m.\u001b[39;49mfindChessboardCorners(gray, CHECKERBOARD, cv2\u001b[39m.\u001b[39;49mCALIB_CB_ADAPTIVE_THRESH\u001b[39m+\u001b[39;49mcv2\u001b[39m.\u001b[39;49mCALIB_CB_FAST_CHECK\u001b[39m+\u001b[39;49mcv2\u001b[39m.\u001b[39;49mCALIB_CB_NORMALIZE_IMAGE)\n\u001b[0;32m     38\u001b[0m \u001b[39mprint\u001b[39m(\u001b[39m\"\u001b[39m\u001b[39mcv2 corner detection result: \u001b[39m\u001b[39m\"\u001b[39m, ret)\n\u001b[0;32m     40\u001b[0m \u001b[39m#if the desired number of corners is found\u001b[39;00m\n",
      "\u001b[1;31merror\u001b[0m: OpenCV(4.8.0) D:\\a\\opencv-python\\opencv-python\\opencv\\modules\\calib3d\\src\\calibinit.cpp:492: error: (-211:One of the arguments' values is out of range) Both width and height of the pattern should have bigger than 2 in function 'cv::findChessboardCorners'\n"
     ]
    }
   ],
   "source": [
    "#with checkerboard images, do calibration\n",
    "import cv2\n",
    "import numpy as np\n",
    "import os\n",
    "import glob\n",
    "\n",
    "\n",
    "#define the board's dimension\n",
    "CHECKERBOARD=(3, 2)\n",
    "criteria=(cv2.TERM_CRITERIA_EPS + cv2.TERM_CRITERIA_MAX_ITER, 30, 0.001)\n",
    "\n",
    "#generate vector of 3D points\n",
    "objpoints=[]\n",
    "\n",
    "#generate vector of 2D points\n",
    "imgpoints=[]\n",
    "\n",
    "#define world matrix\n",
    "objp=np.zeros((1, CHECKERBOARD[0]*CHECKERBOARD[1], 3), np.float32)\n",
    "objp[0, :, :2]=np.mgrid[0: CHECKERBOARD[0], 0:CHECKERBOARD[1]].T.reshape(-1, 2)\n",
    "prev_img_shape=None\n",
    "\n",
    "#extract the path of checkerboard images\n",
    "# target='./Cali/4K/CAM1/*.jpg'\n",
    "\n",
    "images=glob.glob(os.getcwd()+\"/*.jpg\")\n",
    "print(images)\n",
    "\n",
    "\n",
    "for fname in images:\n",
    "    img=cv2.imread(fname)\n",
    "\n",
    "    #invert into gray scale\n",
    "    gray=cv2.cvtColor(img, cv2.COLOR_BGR2GRAY)\n",
    "\n",
    "    #find corners of the checkerboard\n",
    "    ret, corners=cv2.findChessboardCorners(gray, CHECKERBOARD, cv2.CALIB_CB_ADAPTIVE_THRESH+cv2.CALIB_CB_FAST_CHECK+cv2.CALIB_CB_NORMALIZE_IMAGE)\n",
    "    print(\"cv2 corner detection result: \", ret)\n",
    "    \n",
    "    #if the desired number of corners is found\n",
    "    if ret==True:\n",
    "        objpoints.append(objp)\n",
    "        \n",
    "        #fine tunning the matrix based on given 2D points\n",
    "        corners2=cv2.cornerSubPix(gray, corners, (11, 11), (-1, -1), criteria) \n",
    "        imgpoints.append(corners2)\n",
    "        # print(\"corners2: \", corners2)\n",
    "\n",
    "        #illustrate the corners\n",
    "        img=cv2.drawChessboardCorners(img, CHECKERBOARD, corners2, ret)\n",
    "\n",
    "    elif ret==False:\n",
    "        os.remove(fname)\n",
    "        \n",
    "    cv2.imshow('cali result', img)\n",
    "    cv2.waitKey(0)\n",
    "\n",
    "\n",
    "\n",
    "cv2.destroyAllWindows()\n",
    "h, w=img.shape[:2]\n",
    "print(\"h, w: \", h, w)\n",
    "\n",
    "#check the results\n",
    "print(\"objpoints: \", objpoints)\n",
    "\n",
    "#with the true 3D points and given 2D points, do calibration\n",
    "ret, mtx, dist, rvecs, tvecs=cv2.calibrateCamera(objpoints, imgpoints, gray.shape[::-1], None, None)\n",
    "\n"
   ]
  },
  {
   "cell_type": "code",
   "execution_count": 3,
   "metadata": {},
   "outputs": [
    {
     "name": "stdout",
     "output_type": "stream",
     "text": [
      "camera matrix: \n",
      "\n",
      "[[3.26943206e+03 0.00000000e+00 7.77129176e+02]\n",
      " [0.00000000e+00 2.00360114e+03 4.03395477e+02]\n",
      " [0.00000000e+00 0.00000000e+00 1.00000000e+00]]\n"
     ]
    }
   ],
   "source": [
    "print(\"camera matrix: \\n\")\n",
    "print(mtx)"
   ]
  },
  {
   "cell_type": "code",
   "execution_count": 4,
   "metadata": {},
   "outputs": [
    {
     "name": "stdout",
     "output_type": "stream",
     "text": [
      "dist: \n",
      "\n",
      "[[ 1.31360056e+01 -2.92892275e+02  5.44147704e-01  2.32045256e-01\n",
      "   2.58058485e+03]]\n"
     ]
    }
   ],
   "source": [
    "print(\"dist: \\n\")\n",
    "print(dist)"
   ]
  },
  {
   "cell_type": "code",
   "execution_count": 34,
   "metadata": {},
   "outputs": [
    {
     "name": "stdout",
     "output_type": "stream",
     "text": [
      "rvec: \n",
      "\n"
     ]
    },
    {
     "ename": "NameError",
     "evalue": "name 'rvec' is not defined",
     "output_type": "error",
     "traceback": [
      "\u001b[1;31m---------------------------------------------------------------------------\u001b[0m",
      "\u001b[1;31mNameError\u001b[0m                                 Traceback (most recent call last)",
      "Cell \u001b[1;32mIn[34], line 2\u001b[0m\n\u001b[0;32m      1\u001b[0m \u001b[39mprint\u001b[39m(\u001b[39m\"\u001b[39m\u001b[39mrvec: \u001b[39m\u001b[39m\\n\u001b[39;00m\u001b[39m\"\u001b[39m)\n\u001b[1;32m----> 2\u001b[0m \u001b[39mprint\u001b[39m(rvec)\n",
      "\u001b[1;31mNameError\u001b[0m: name 'rvec' is not defined"
     ]
    }
   ],
   "source": [
    "print(\"rvec: \\n\")\n",
    "print(rvec)"
   ]
  },
  {
   "cell_type": "code",
   "execution_count": 35,
   "metadata": {},
   "outputs": [
    {
     "name": "stdout",
     "output_type": "stream",
     "text": [
      "tvec: \n",
      "\n"
     ]
    },
    {
     "ename": "NameError",
     "evalue": "name 'tvec' is not defined",
     "output_type": "error",
     "traceback": [
      "\u001b[1;31m---------------------------------------------------------------------------\u001b[0m",
      "\u001b[1;31mNameError\u001b[0m                                 Traceback (most recent call last)",
      "Cell \u001b[1;32mIn[35], line 2\u001b[0m\n\u001b[0;32m      1\u001b[0m \u001b[39mprint\u001b[39m(\u001b[39m\"\u001b[39m\u001b[39mtvec: \u001b[39m\u001b[39m\\n\u001b[39;00m\u001b[39m\"\u001b[39m)\n\u001b[1;32m----> 2\u001b[0m \u001b[39mprint\u001b[39m(tvec)\n",
      "\u001b[1;31mNameError\u001b[0m: name 'tvec' is not defined"
     ]
    }
   ],
   "source": [
    "print(\"tvec: \\n\")\n",
    "print(tvec)"
   ]
  },
  {
   "cell_type": "code",
   "execution_count": 7,
   "metadata": {},
   "outputs": [
    {
     "name": "stdout",
     "output_type": "stream",
     "text": [
      "c:\\Users\\User\\Desktop\\Dev\\tabletennis_robot\\Cali\\4K\\CAM2\n",
      "[]\n"
     ]
    }
   ],
   "source": [
    "#human error: current directory forgetting\n",
    "print(os.getcwd())\n",
    "target='./Cali/4K/CAM2'\n",
    "images=glob.glob(target)\n",
    "print(images)\n",
    "for fname in images:\n",
    "    print(fname)"
   ]
  },
  {
   "cell_type": "code",
   "execution_count": 39,
   "metadata": {},
   "outputs": [],
   "source": [
    "img=cv2.imread('./checkerboard0_cam1.jpg')\n",
    "h, w=img.shape[:2]\n",
    "\n",
    "#obtain newcameramtx, roi for calibration\n",
    "newcameramtx, roi=cv2.getOptimalNewCameraMatrix(mtx, dist, (w, h), 1, (w, h))"
   ]
  },
  {
   "cell_type": "code",
   "execution_count": 40,
   "metadata": {},
   "outputs": [
    {
     "data": {
      "text/plain": [
       "True"
      ]
     },
     "execution_count": 40,
     "metadata": {},
     "output_type": "execute_result"
    }
   ],
   "source": [
    "#show the calibrated image\n",
    "mapx, mapy=cv2.initUndistortRectifyMap(mtx, dist, None, newcameramtx, (w, h), 5)\n",
    "dst=cv2.remap(img, mapx, mapy, cv2.INTER_LINEAR)\n",
    "\n",
    "x, y, w, h=roi\n",
    "dst=dst[y:y+h, x:x+w]\n",
    "cv2.imwrite('cali_remap0_cam1.png', dst)\n"
   ]
  },
  {
   "cell_type": "code",
   "execution_count": null,
   "metadata": {},
   "outputs": [],
   "source": []
  }
 ],
 "metadata": {
  "kernelspec": {
   "display_name": "Python 3",
   "language": "python",
   "name": "python3"
  },
  "language_info": {
   "codemirror_mode": {
    "name": "ipython",
    "version": 3
   },
   "file_extension": ".py",
   "mimetype": "text/x-python",
   "name": "python",
   "nbconvert_exporter": "python",
   "pygments_lexer": "ipython3",
   "version": "3.11.4"
  },
  "orig_nbformat": 4
 },
 "nbformat": 4,
 "nbformat_minor": 2
}
