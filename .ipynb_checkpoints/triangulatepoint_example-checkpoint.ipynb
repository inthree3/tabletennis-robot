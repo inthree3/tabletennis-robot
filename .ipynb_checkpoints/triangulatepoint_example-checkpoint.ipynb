{
 "cells": [
  {
   "cell_type": "code",
   "execution_count": 2,
   "id": "6ff51552",
   "metadata": {},
   "outputs": [],
   "source": [
    "import math\n",
    "import cv2\n",
    "import numpy as np\n",
    "import matplotlib.pyplot as plt"
   ]
  },
  {
   "cell_type": "code",
   "execution_count": 3,
   "id": "29ca2197",
   "metadata": {},
   "outputs": [],
   "source": [
    "# camera constants\n",
    "\n",
    "fl = [1.487847159024568555e+03, 1.489275578039685570e+03]\n",
    "pp = [9.200624828553764019e+02, 5.759643410906321606e+02]\n",
    "pitch=0.0\n",
    "yaw = 0.0 \n",
    "roll = 0.0"
   ]
  },
  {
   "cell_type": "code",
   "execution_count": 4,
   "id": "3b4fa58f",
   "metadata": {},
   "outputs": [],
   "source": [
    "def eulerAnglesToRotationMatrix( theta) :\n",
    "    \n",
    "    R_x = np.array([[1,         0,                  0                   ],\n",
    "                    [0,         math.cos(theta[0]), -math.sin(theta[0]) ],\n",
    "                    [0,         math.sin(theta[0]), math.cos(theta[0])  ]\n",
    "                    ])    \n",
    "\n",
    "    R_y = np.array([[math.cos(theta[1]),    0,      math.sin(theta[1])  ],  \n",
    "                    [0,                     1,      0                   ],\n",
    "                    [-math.sin(theta[1]),   0,      math.cos(theta[1])  ]\n",
    "                    ])\n",
    "\n",
    "    R_z = np.array([[math.cos(theta[2]),    -math.sin(theta[2]),    0], \n",
    "                    [math.sin(theta[2]),    math.cos(theta[2]),     0], \n",
    "                    [0,                     0,                      1]\n",
    "                    ])    \n",
    "\n",
    "    R = np.dot(R_z, np.dot( R_y, R_x ))\n",
    "\n",
    "    return R"
   ]
  },
  {
   "cell_type": "code",
   "execution_count": 5,
   "id": "8b520043",
   "metadata": {},
   "outputs": [
    {
     "name": "stdout",
     "output_type": "stream",
     "text": [
      "[[1.48784716e+03 0.00000000e+00 9.20062483e+02]\n",
      " [0.00000000e+00 1.48927558e+03 5.75964341e+02]\n",
      " [0.00000000e+00 0.00000000e+00 1.00000000e+00]]\n"
     ]
    }
   ],
   "source": [
    "# lets leave rotation and the camera matrix unchanged\n",
    "\n",
    "R = eulerAnglesToRotationMatrix([0,0,0]) # Rotation matrix:\n",
    "K = np.array([\n",
    "            [fl[0], 0., pp[0]],\n",
    "            [0., fl[1], pp[1]],\n",
    "            [0., 0., 1.] \n",
    "            ]) # Kamera matrix:\n",
    "\n",
    "print(K)\n",
    "# define pose 0\n",
    "\n",
    "T0 = np.array([0,0,0]) # Translation vector\n",
    "RT0 = np.zeros((3,4))  # combined Rotation/Translation matrix\n",
    "RT0[:3,:3] = R\n",
    "RT0[:3, 3] = T0\n",
    "P0 = np.dot(K, RT0) # Projection matrix\n",
    "\n",
    "# define pose 1\n",
    "\n",
    "T1 = np.array([0,0,2.])\n",
    "RT1 = np.zeros((3,4))\n",
    "RT1[:3,:3] = R\n",
    "RT1[:3, 3] = -T1\n",
    "P1 = np.dot(K, RT1)"
   ]
  },
  {
   "cell_type": "code",
   "execution_count": 11,
   "id": "9506cd58",
   "metadata": {},
   "outputs": [
    {
     "name": "stdout",
     "output_type": "stream",
     "text": [
      "[1.74392004e+04 1.24980057e+04 1.52350000e+01]\n",
      "15.235\n",
      "[1.14468004e+03 8.20348256e+02 1.00000000e+00]\n"
     ]
    },
    {
     "data": {
      "image/png": "[encoded data removed]",
      "text/plain": [
       "<Figure size 432x288 with 1 Axes>"
      ]
     },
     "metadata": {
      "needs_background": "light"
     },
     "output_type": "display_data"
    }
   ],
   "source": [
    "wcsp = np.array([0, 0, 0, 1.]) # define an arbitrary 3D point in world coordinates\n",
    "\n",
    "icsp0 = np.dot(P0, wcsp) # project this point using the first camera pose\n",
    "\n",
    "print(icsp0)\n",
    "#음수 인덱스 -> 끝에서 첫번째\n",
    "print(icsp0[-1])\n",
    "icsp0 = icsp0/icsp0[-1] # normalize as we are in homogenuous coordinates\n",
    "print(icsp0)\n",
    "\n",
    "icsp1 = np.dot(P1, wcsp)\n",
    "icsp1 = icsp1/icsp1[-1]\n",
    "\n",
    "# plot the projection\n",
    "fig = plt.figure()\n",
    "plt.xlim((0,1920))\n",
    "plt.ylim((0,1080))\n",
    "\n",
    "plt.plot(icsp0[0], icsp0[1], 'ko')\n",
    "plt.plot(icsp1[0], icsp1[1], 'ro')    \n",
    "    \n",
    "plt.axvline(pp[0], alpha=0.2)\n",
    "plt.axhline(pp[1], alpha=0.2)\n",
    "plt.show()"
   ]
  },
  {
   "cell_type": "code",
   "execution_count": 12,
   "id": "bba94b3a",
   "metadata": {},
   "outputs": [
    {
     "name": "stdout",
     "output_type": "stream",
     "text": [
      "[[1.48784716e+03 0.00000000e+00 9.20062483e+02 0.00000000e+00]\n",
      " [0.00000000e+00 1.48927558e+03 5.75964341e+02 0.00000000e+00]\n",
      " [0.00000000e+00 0.00000000e+00 1.00000000e+00 0.00000000e+00]]\n",
      "[[ 1.48784716e+03  0.00000000e+00  9.20062483e+02 -1.84012497e+03]\n",
      " [ 0.00000000e+00  1.48927558e+03  5.75964341e+02 -1.15192868e+03]\n",
      " [ 0.00000000e+00  0.00000000e+00  1.00000000e+00 -2.00000000e+00]]\n",
      "3D-Ball\n",
      "[[ 2.3  ]\n",
      " [ 2.5  ]\n",
      " [15.235]]\n"
     ]
    }
   ],
   "source": [
    "print(P0)\n",
    "print(P1)\n",
    "\n",
    "res = cv2.triangulatePoints(P0, P1, icsp0[:2], icsp1[:2]) # now try to get those 3d-positions back using triangulation\n",
    "print(\"3D-Ball\")\n",
    "print(res[:3]/res[-1]) # again, normalize b/c of homogenuous coordinates"
   ]
  },
  {
   "cell_type": "code",
   "execution_count": null,
   "id": "e021f8a5",
   "metadata": {},
   "outputs": [],
   "source": []
  },
  {
   "cell_type": "code",
   "execution_count": null,
   "id": "682ac921",
   "metadata": {},
   "outputs": [],
   "source": []
  }
 ],
 "metadata": {
  "kernelspec": {
   "display_name": "Python 3 (ipykernel)",
   "language": "python",
   "name": "python3"
  },
  "language_info": {
   "codemirror_mode": {
    "name": "ipython",
    "version": 3
   },
   "file_extension": ".py",
   "mimetype": "text/x-python",
   "name": "python",
   "nbconvert_exporter": "python",
   "pygments_lexer": "ipython3",
   "version": "3.7.10"
  }
 },
 "nbformat": 4,
 "nbformat_minor": 5
}
