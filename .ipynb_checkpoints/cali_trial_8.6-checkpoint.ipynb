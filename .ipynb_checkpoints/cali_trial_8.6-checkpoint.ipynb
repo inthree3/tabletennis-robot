{
 "cells": [
  {
   "cell_type": "code",
   "execution_count": 19,
   "id": "5d241dfe",
   "metadata": {},
   "outputs": [],
   "source": [
    "import cv2\n",
    "import numpy as np\n",
    "import sys\n",
    "import time"
   ]
  },
  {
   "cell_type": "code",
   "execution_count": 20,
   "id": "6f9baf19",
   "metadata": {},
   "outputs": [],
   "source": [
    "img1=cv2.imread('cam1_mask_making.jpg')\n",
    "img2=cv2.imread('cam2_mask_making.jpg')\n",
    "h,w=img1.shape[:2]"
   ]
  },
  {
   "cell_type": "markdown",
   "id": "3efa2169",
   "metadata": {},
   "source": [
    "# Intrinsic Matrix"
   ]
  },
  {
   "cell_type": "code",
   "execution_count": 21,
   "id": "0f75428e",
   "metadata": {},
   "outputs": [
    {
     "name": "stdout",
     "output_type": "stream",
     "text": [
      "intrinsics Matrix\n",
      "\n",
      "[[766.8537   0.     647.6205]\n",
      " [  0.     769.1458 345.3028]\n",
      " [  0.       0.       1.    ]]\n",
      "[[765.3281   0.     641.5385]\n",
      " [  0.     767.4927 366.9369]\n",
      " [  0.       0.       1.    ]]\n"
     ]
    }
   ],
   "source": [
    "#Focallength\n",
    "cam1_f=np.array([766.8537,769.1458])\n",
    "cam2_f=np.array([765.3281,767.4927])\n",
    "\n",
    "#Principle Point(Re)\n",
    "cam1_c=np.array([647.6205,345.3028])\n",
    "cam2_c=np.array([641.5385,366.9369])\n",
    "\n",
    "#Distortion\n",
    "cam1_dist_r=np.array([0.1313,-0.2132])\n",
    "cam1_dist_t=np.array([0,0])\n",
    "cam2_dist_r=np.array([0.1331,-0.2226])\n",
    "cam2_dist_t=np.array([0,0])\n",
    "\n",
    "#Intrinsics Matrix\n",
    "cam1_int=np.array([[cam1_f[0],0,cam1_c[0]],[0,cam1_f[1],cam1_c[1]],[0,0,1]])\n",
    "cam2_int=np.array([[cam2_f[0],0,cam2_c[0]],[0,cam2_f[1],cam2_c[1]],[0,0,1]])\n",
    "\n",
    "print('intrinsics Matrix')\n",
    "print('')\n",
    "print(cam1_int)\n",
    "print(cam2_int)"
   ]
  },
  {
   "cell_type": "code",
   "execution_count": 22,
   "id": "b7589f0b",
   "metadata": {},
   "outputs": [
    {
     "name": "stdout",
     "output_type": "stream",
     "text": [
      "[[766.8537   0.     647.6205]\n",
      " [  0.     769.1458 345.3028]\n",
      " [  0.       0.       1.    ]]\n",
      "[ 0.1313 -0.2132  0.      0.    ]\n",
      "\n",
      "[[765.3281   0.     641.5385]\n",
      " [  0.     767.4927 366.9369]\n",
      " [  0.       0.       1.    ]]\n",
      "[ 0.1331 -0.2226  0.      0.    ]\n"
     ]
    }
   ],
   "source": [
    "mtx1=cam1_int\n",
    "mtx2=cam2_int\n",
    "dist1=np.hstack([cam1_dist_r, cam1_dist_t])\n",
    "dist2=np.hstack([cam2_dist_r, cam2_dist_t])\n",
    "print(mtx1)\n",
    "print(dist1)\n",
    "print(\"\")\n",
    "print(mtx2)\n",
    "print(dist2)"
   ]
  },
  {
   "cell_type": "code",
   "execution_count": 23,
   "id": "b2a37d92",
   "metadata": {},
   "outputs": [
    {
     "name": "stdout",
     "output_type": "stream",
     "text": [
      "[[595.19134521   0.         689.33587315]\n",
      " [  0.         597.16876221 320.03480411]\n",
      " [  0.           0.           1.        ]]\n",
      "\n",
      "[[556.05267334   0.         654.94962865]\n",
      " [  0.         570.4743042  383.23937701]\n",
      " [  0.           0.           1.        ]]\n"
     ]
    }
   ],
   "source": [
    "newcameraMtx1,roi1=cv2.getOptimalNewCameraMatrix(mtx1,dist1,(w,h),1,(w,h))\n",
    "print(newcameraMtx1)\n",
    "print(\"\")\n",
    "newcameraMtx2,roi2=cv2.getOptimalNewCameraMatrix(mtx2,dist2,(w,h),1,(w,h))\n",
    "print(newcameraMtx2)"
   ]
  },
  {
   "cell_type": "code",
   "execution_count": 24,
   "id": "3eb04ce2",
   "metadata": {},
   "outputs": [
    {
     "name": "stdout",
     "output_type": "stream",
     "text": [
      "(176, 57, 1010, 548)\n",
      "(178, 116, 950, 525)\n"
     ]
    }
   ],
   "source": [
    "print(roi1)\n",
    "print(roi2)"
   ]
  },
  {
   "cell_type": "code",
   "execution_count": 25,
   "id": "2c44cd19",
   "metadata": {},
   "outputs": [],
   "source": [
    "# dst1=cv2.undistort(img,mtx1,dist1,None,newcameraMtx1)\n",
    "\n",
    "# x,y,w,h = roi1\n",
    "# dst1 = dst1[y:y+h,x:x+w]\n",
    "# cv2.imwrite('calibRes.png',dst1)"
   ]
  },
  {
   "cell_type": "code",
   "execution_count": 26,
   "id": "d2d47c7f",
   "metadata": {},
   "outputs": [
    {
     "data": {
      "text/plain": [
       "True"
      ]
     },
     "execution_count": 26,
     "metadata": {},
     "output_type": "execute_result"
    }
   ],
   "source": [
    "mapx1,mapy1=cv2.initUndistortRectifyMap(mtx1,dist1,None,newcameraMtx1,(w,h),5)\n",
    "mapx2,mapy2=cv2.initUndistortRectifyMap(mtx2,dist2,None,newcameraMtx2,(w,h),5)\n",
    "\n",
    "dst1 = cv2.remap(img1,mapx1,mapy1,cv2.INTER_LINEAR)\n",
    "dst2 = cv2.remap(img2,mapx2,mapy2,cv2.INTER_LINEAR)\n",
    "\n",
    "x,y,w,h = roi1\n",
    "# dst1 = dst1[y:y+h,x:x+w]\n",
    "# dst2 = dst2[y:y+h,x:x+w]\n",
    "cv2.imwrite('cam1_mask_making_cali.jpg',dst1)\n",
    "cv2.imwrite('cam2_mask_making_cali.jpg',dst2)"
   ]
  },
  {
   "cell_type": "code",
   "execution_count": null,
   "id": "a820dcec",
   "metadata": {},
   "outputs": [],
   "source": []
  }
 ],
 "metadata": {
  "kernelspec": {
   "display_name": "Python 3 (ipykernel)",
   "language": "python",
   "name": "python3"
  },
  "language_info": {
   "codemirror_mode": {
    "name": "ipython",
    "version": 3
   },
   "file_extension": ".py",
   "mimetype": "text/x-python",
   "name": "python",
   "nbconvert_exporter": "python",
   "pygments_lexer": "ipython3",
   "version": "3.7.10"
  }
 },
 "nbformat": 4,
 "nbformat_minor": 5
}
