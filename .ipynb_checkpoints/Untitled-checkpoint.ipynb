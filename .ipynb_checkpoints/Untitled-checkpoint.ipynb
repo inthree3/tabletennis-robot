{
 "cells": [
  {
   "cell_type": "code",
   "execution_count": 2,
   "id": "9b528a34",
   "metadata": {},
   "outputs": [],
   "source": [
    "import math\n",
    "import cv2\n",
    "import numpy as np\n",
    "import matplotlib.pyplot as plt"
   ]
  },
  {
   "cell_type": "code",
   "execution_count": 4,
   "id": "6baf63a3",
   "metadata": {},
   "outputs": [],
   "source": [
    "cam1_R=np.array([[0.9549,-0.2120,0.2078],\n",
    "                  [0.2953,0.7503,-0.5914],\n",
    "                  [-0.0305,0.6261,0.7791]])\n",
    "\n",
    "cam2_R=np.array([[0.7009,-0.3537,0.6194],\n",
    "                  [0.7128,0.3172,-0.6255],\n",
    "                  [0.0248,0.8799,0.4744]])"
   ]
  },
  {
   "cell_type": "code",
   "execution_count": 5,
   "id": "d0a143a3",
   "metadata": {},
   "outputs": [],
   "source": [
    "cam1_T=np.array([-1141.732,135.2270,1683.209])\n",
    "\n",
    "cam2_T=np.array([-394.3632,163.9281,1394.106])"
   ]
  },
  {
   "cell_type": "code",
   "execution_count": 10,
   "id": "8dbb00d9",
   "metadata": {},
   "outputs": [
    {
     "name": "stdout",
     "output_type": "stream",
     "text": [
      "[[ 9.549000e-01 -2.120000e-01  2.078000e-01 -1.141732e+03]\n",
      " [ 2.953000e-01  7.503000e-01 -5.914000e-01  1.352270e+02]\n",
      " [-3.050000e-02  6.261000e-01  7.791000e-01  1.683209e+03]\n",
      " [ 0.000000e+00  0.000000e+00  0.000000e+00  1.000000e+00]]\n",
      "[[ 7.009000e-01 -3.537000e-01  6.194000e-01 -3.943632e+02]\n",
      " [ 7.128000e-01  3.172000e-01 -6.255000e-01  1.639281e+02]\n",
      " [ 2.480000e-02  8.799000e-01  4.744000e-01  1.394106e+03]\n",
      " [ 0.000000e+00  0.000000e+00  0.000000e+00  1.000000e+00]]\n"
     ]
    }
   ],
   "source": [
    "cam1_Trans=np.zeros((3,4))\n",
    "cam2_Trans=np.zeros((3,4))\n",
    "\n",
    "cam1_Trans[0:3,0:3]=cam1_R\n",
    "cam1_Trans[0:3,3]=cam1_T\n",
    "cam1_Trans[3,:]=[0,0,0,1]\n",
    "\n",
    "cam2_Trans[0:3,0:3]=cam2_R\n",
    "cam2_Trans[0:3,3]=cam2_T\n",
    "cam2_Trans[3,:]=[0,0,0,1]\n",
    "\n",
    "print(cam1_Trans)\n",
    "\n",
    "print(cam2_Trans)"
   ]
  },
  {
   "cell_type": "code",
   "execution_count": null,
   "id": "9803af45",
   "metadata": {},
   "outputs": [],
   "source": []
  }
 ],
 "metadata": {
  "kernelspec": {
   "display_name": "Python 3 (ipykernel)",
   "language": "python",
   "name": "python3"
  },
  "language_info": {
   "codemirror_mode": {
    "name": "ipython",
    "version": 3
   },
   "file_extension": ".py",
   "mimetype": "text/x-python",
   "name": "python",
   "nbconvert_exporter": "python",
   "pygments_lexer": "ipython3",
   "version": "3.7.10"
  }
 },
 "nbformat": 4,
 "nbformat_minor": 5
}
