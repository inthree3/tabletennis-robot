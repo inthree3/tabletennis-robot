{
 "cells": [
  {
   "cell_type": "code",
   "execution_count": 5,
   "id": "43f85264",
   "metadata": {},
   "outputs": [],
   "source": [
    "import cv2\n",
    "import numpy as np\n",
    "import sys"
   ]
  },
  {
   "cell_type": "code",
   "execution_count": null,
   "id": "e4eb03ba",
   "metadata": {},
   "outputs": [],
   "source": []
  },
  {
   "cell_type": "code",
   "execution_count": 6,
   "id": "b6a18c9b",
   "metadata": {},
   "outputs": [],
   "source": [
    "# 트랙바 콜백 함수 생성\n",
    "def nothing(x):\n",
    "    pass\n",
    "\n",
    "def on_trackbar():\n",
    "    global hmin,hmax,smin,smax,vmin,vmax\n",
    "    hmin = cv2.getTrackbarPos('H_min', 'dst')\n",
    "    hmax = cv2.getTrackbarPos('H_max', 'dst')\n",
    "    smin = cv2.getTrackbarPos('S_min', 'dst')\n",
    "    smax = cv2.getTrackbarPos('S_max', 'dst')\n",
    "    vmin = cv2.getTrackbarPos('V_min', 'dst')\n",
    "    vmax = cv2.getTrackbarPos('V_max', 'dst')"
   ]
  },
  {
   "cell_type": "code",
   "execution_count": 7,
   "id": "f168b71d",
   "metadata": {},
   "outputs": [],
   "source": [
    "# cv2.namedWindow('src')\n",
    "cv2.namedWindow('dst')\n",
    "\n",
    "# 트랙바 생성\n",
    "cv2.createTrackbar('H_min', 'dst', 0, 255, nothing)\n",
    "cv2.setTrackbarPos('H_min', 'dst',60)\n",
    "cv2.createTrackbar('H_max', 'dst', 0, 255, nothing)\n",
    "cv2.setTrackbarPos('H_max', 'dst',100)\n",
    "cv2.createTrackbar('S_min', 'dst', 0, 255, nothing)\n",
    "cv2.setTrackbarPos('S_min', 'dst',60)\n",
    "cv2.createTrackbar('S_max', 'dst', 0, 255, nothing)\n",
    "cv2.setTrackbarPos('S_max', 'dst',100)\n",
    "cv2.createTrackbar('V_min', 'dst', 0, 255, nothing)\n",
    "cv2.setTrackbarPos('V_min', 'dst',60)\n",
    "cv2.createTrackbar('V_max', 'dst', 0, 255, nothing)\n",
    "cv2.setTrackbarPos('V_max', 'dst',100)"
   ]
  },
  {
   "cell_type": "code",
   "execution_count": 8,
   "id": "c9445d41",
   "metadata": {},
   "outputs": [],
   "source": [
    "while(True):\n",
    "    src = cv2.imread('cam1_mask_making_cali.jpg')\n",
    "\n",
    "    #이미지 불러와졌는지\n",
    "    if src is None:\n",
    "        print('Image load failed!')\n",
    "        sys.exit()\n",
    "    \n",
    "    cv2.imshow('src', src)\n",
    "    src_hsv = cv2.cvtColor(src, cv2.COLOR_BGR2HSV)\n",
    "    \n",
    "    #Trackbar 불러오기\n",
    "    on_trackbar()\n",
    "    \n",
    "    #Detecting Color Setting\n",
    "    dst = cv2.inRange(src_hsv, (hmin, smin, vmin), (hmax, smax, vmax))\n",
    "    cv2.imshow('dst', dst)\n",
    "    \n",
    "    #MORPH 함수 이용하여 정확도 향상\n",
    "    kernel = np.ones((11,11), np.uint8)\n",
    "    dst = cv2.morphologyEx(dst, cv2.MORPH_OPEN, kernel)\n",
    "    dst = cv2.morphologyEx(dst, cv2.MORPH_CLOSE, kernel)\n",
    "\n",
    "    # 마스크 이미지로 원본 이미지에서 범위값에 해당되는 영상 부분을 획득\n",
    "    img_result = cv2.bitwise_and(src, src, mask=dst)\n",
    "\n",
    "    cv2.imshow('src', src)\n",
    "    cv2.imshow('dst',dst)\n",
    "    cv2.imshow('img_result', img_result)\n",
    "    \n",
    "    if cv2.waitKey(1) & 0xFF == 27:\n",
    "        cv2.imwrite('cam1_mask_cali_v2.jpg', dst)\n",
    "        break\n",
    "    \n",
    "cv2.destroyAllWindows()"
   ]
  },
  {
   "cell_type": "code",
   "execution_count": null,
   "id": "a5332244",
   "metadata": {},
   "outputs": [],
   "source": []
  }
 ],
 "metadata": {
  "kernelspec": {
   "display_name": "Python 3 (ipykernel)",
   "language": "python",
   "name": "python3"
  },
  "language_info": {
   "codemirror_mode": {
    "name": "ipython",
    "version": 3
   },
   "file_extension": ".py",
   "mimetype": "text/x-python",
   "name": "python",
   "nbconvert_exporter": "python",
   "pygments_lexer": "ipython3",
   "version": "3.7.10"
  }
 },
 "nbformat": 4,
 "nbformat_minor": 5
}
